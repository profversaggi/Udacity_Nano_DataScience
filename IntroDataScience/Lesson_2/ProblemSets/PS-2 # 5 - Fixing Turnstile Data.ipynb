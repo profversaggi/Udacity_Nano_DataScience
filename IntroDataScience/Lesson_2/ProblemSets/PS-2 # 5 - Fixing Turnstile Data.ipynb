{
 "cells": [
  {
   "cell_type": "code",
   "execution_count": 34,
   "metadata": {
    "collapsed": false
   },
   "outputs": [],
   "source": [
    "import csv\n",
    "\n",
    "def fix_turnstile_data(filenames):\n",
    "    '''\n",
    "    Filenames is a list of MTA Subway turnstile text files. A link to an example\n",
    "    MTA Subway turnstile text file can be seen at the URL below:\n",
    "    http://web.mta.info/developers/data/nyct/turnstile/turnstile_110507.txt\n",
    "    \n",
    "    As you can see, there are numerous data points included in each row of the\n",
    "    a MTA Subway turnstile text file. \n",
    "\n",
    "    You want to write a function that will update each row in the text\n",
    "    file so there is only one entry per row. A few examples below:\n",
    "    A002,R051,02-00-00,05-28-11,00:00:00,REGULAR,003178521,001100739\n",
    "    A002,R051,02-00-00,05-28-11,04:00:00,REGULAR,003178541,001100746\n",
    "    A002,R051,02-00-00,05-28-11,08:00:00,REGULAR,003178559,001100775\n",
    "    \n",
    "    Write the updates to a different text file in the format of \"updated_\" + filename.\n",
    "    For example:\n",
    "        1) if you read in a text file called \"turnstile_110521.txt\"\n",
    "        2) you should write the updated data to \"updated_turnstile_110521.txt\"\n",
    "\n",
    "    The order of the fields should be preserved. Remember to read through the \n",
    "    Instructor Notes below for more details on the task. \n",
    "    \n",
    "    In addition, here is a CSV reader/writer introductory tutorial:\n",
    "    http://goo.gl/HBbvyy\n",
    "    \n",
    "    You can see a sample of the turnstile text file that's passed into this function\n",
    "    and the the corresponding updated file in the links below:\n",
    "    \n",
    "    Sample input file:\n",
    "    https://www.dropbox.com/s/mpin5zv4hgrx244/turnstile_110528.txt\n",
    "    Sample updated file:\n",
    "    https://www.dropbox.com/s/074xbgio4c39b7h/solution_turnstile_110528.txt\n",
    "    '''\n",
    "    \n",
    "    # Create File Input Object\n",
    "    f_in = open('turnstile_110507.csv', 'r')\n",
    "    # f_in = open('test.txt', 'r')\n",
    "\n",
    "    # Create File Output Object\n",
    "    f_out = open('updated_turnstile_110507.csv ', 'w')\n",
    "\n",
    "\n",
    "    # Create CSV readers and writers based upon the existing file objects\n",
    "    reader_in = csv.reader(f_in, delimiter=',')\n",
    "    writer_out = csv.writer(f_out, delimiter=',')\n",
    "\n",
    "    # Skip the first lines since it is the header (we do not use one)\n",
    "    # reader_in.next()\n",
    "\n",
    "\n",
    "    # for name in filenames:\n",
    "        # your code here\n",
    "\n",
    "    for line in reader_in:\n",
    "        try:\n",
    "            # Set the record base (appears on every line)\n",
    "            #base_record = line[0], line[1], line[2]\n",
    "            # Process each line ...\n",
    "            line_1 = [line[0], line[1], line[2], line[3], line[4], line[5], line[6], line[7]]\n",
    "            line_2 = [line[0], line[1], line[2], line[8], line[9], line[10], line[11], line[12]]  \n",
    "            line_3 = [line[0], line[1], line[2], line[13], line[14], line[15], line[16], line[17]]\n",
    "            line_4 = [line[0], line[1], line[2], line[18], line[19], line[20], line[21], line[22]]\n",
    "            line_5 = [line[0], line[1], line[2], line[23], line[24], line[25], line[26], line[27]]\n",
    "            line_6 = [line[0], line[1], line[2], line[28], line[29], line[30], line[31], line[32]]\n",
    "            line_7 = [line[0], line[1], line[2], line[33], line[34], line[35], line[36], line[37]]\n",
    "            line_8 = [line[0], line[1], line[2], line[38], line[39], line[40], line[41], line[42]]\n",
    "            # Debug - Print out Lines...\n",
    "            # print(line_1)\n",
    "            # print(line_2)\n",
    "            # print(line_3)\n",
    "            # print(line_4)\n",
    "            # print(line_5)\n",
    "            # print(line_6)\n",
    "            # print(line_7)\n",
    "            # print(line_8)\n",
    "            # Write Lines to File ...\n",
    "            writer_out.writerow(line_1)\n",
    "            writer_out.writerow(line_2)\n",
    "            writer_out.writerow(line_3)\n",
    "            writer_out.writerow(line_4)\n",
    "            writer_out.writerow(line_5)\n",
    "            writer_out.writerow(line_6)\n",
    "            writer_out.writerow(line_7)\n",
    "            writer_out.writerow(line_8)\n",
    "        except Exception:\n",
    "            pass\n",
    "\n",
    "\n",
    "    # Close File Handles\n",
    "    f_in.close()\n",
    "    f_out.close()\n",
    "\n",
    "    print(\"All Done.\")\n",
    "    "
   ]
  },
  {
   "cell_type": "code",
   "execution_count": 36,
   "metadata": {
    "collapsed": false
   },
   "outputs": [
    {
     "name": "stdout",
     "output_type": "stream",
     "text": [
      "All Done.\n"
     ]
    }
   ],
   "source": [
    "fix_turnstile_data('turnstile_110507.txt')"
   ]
  },
  {
   "cell_type": "code",
   "execution_count": null,
   "metadata": {
    "collapsed": true
   },
   "outputs": [],
   "source": []
  }
 ],
 "metadata": {
  "kernelspec": {
   "display_name": "Python 2",
   "language": "python",
   "name": "python2"
  },
  "language_info": {
   "codemirror_mode": {
    "name": "ipython",
    "version": 2
   },
   "file_extension": ".py",
   "mimetype": "text/x-python",
   "name": "python",
   "nbconvert_exporter": "python",
   "pygments_lexer": "ipython2",
   "version": "2.7.10"
  }
 },
 "nbformat": 4,
 "nbformat_minor": 0
}
